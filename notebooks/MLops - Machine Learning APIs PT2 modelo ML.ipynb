{
 "cells": [
  {
   "cell_type": "markdown",
   "id": "ed2b9cfc",
   "metadata": {},
   "source": [
    "# Analise de Sentimento"
   ]
  },
  {
   "cell_type": "code",
   "execution_count": 21,
   "id": "178ec99e",
   "metadata": {
    "ExecuteTime": {
     "end_time": "2022-01-03T19:30:22.650760Z",
     "start_time": "2022-01-03T19:30:22.557979Z"
    }
   },
   "outputs": [],
   "source": [
    "#essa biblioteca faz analise de sentimento\n",
    "from textblob import TextBlob\n",
    "\n",
    "import pandas as pd\n",
    "\n",
    "import io\n",
    "\n",
    "from sklearn.model_selection import train_test_split\n",
    "from sklearn.linear_model import LinearRegression\n",
    "\n",
    "#essa biblioteca salva um modelo para náo precisar gerar ele de novo\n",
    "import pickle\n",
    "\n",
    "import requests"
   ]
  },
  {
   "cell_type": "code",
   "execution_count": 3,
   "id": "86e11329",
   "metadata": {
    "ExecuteTime": {
     "end_time": "2022-01-03T18:11:31.347595Z",
     "start_time": "2022-01-03T18:11:31.196585Z"
    }
   },
   "outputs": [
    {
     "data": {
      "text/plain": [
       "TextBlob(\"Python is great for Machine Learning\")"
      ]
     },
     "execution_count": 3,
     "metadata": {},
     "output_type": "execute_result"
    }
   ],
   "source": [
    "frase = \"Python é ótimo para Machine Learning\"\n",
    "\n",
    "tb = TextBlob(frase)\n",
    "# essa bibliotea nao trabalha bem com textos em portugues, portanto precisa traduzir-la\n",
    "\n",
    "tb_en = tb.translate(to='en')\n",
    "tb_en"
   ]
  },
  {
   "cell_type": "code",
   "execution_count": 4,
   "id": "9309c918",
   "metadata": {
    "ExecuteTime": {
     "end_time": "2022-01-03T18:11:31.405031Z",
     "start_time": "2022-01-03T18:11:31.349941Z"
    }
   },
   "outputs": [
    {
     "data": {
      "text/plain": [
       "0.0"
      ]
     },
     "execution_count": 4,
     "metadata": {},
     "output_type": "execute_result"
    }
   ],
   "source": [
    "tb.sentiment.polarity"
   ]
  },
  {
   "cell_type": "code",
   "execution_count": 5,
   "id": "05b671d2",
   "metadata": {
    "ExecuteTime": {
     "end_time": "2022-01-03T18:11:31.410374Z",
     "start_time": "2022-01-03T18:11:31.407178Z"
    }
   },
   "outputs": [
    {
     "data": {
      "text/plain": [
       "0.8"
      ]
     },
     "execution_count": 5,
     "metadata": {},
     "output_type": "execute_result"
    }
   ],
   "source": [
    "tb_en.sentiment.polarity"
   ]
  },
  {
   "cell_type": "markdown",
   "id": "2310c665",
   "metadata": {},
   "source": [
    "# modelo pt 2 house pricing"
   ]
  },
  {
   "cell_type": "code",
   "execution_count": 6,
   "id": "66bcef42",
   "metadata": {
    "ExecuteTime": {
     "end_time": "2022-01-03T18:11:31.424407Z",
     "start_time": "2022-01-03T18:11:31.411927Z"
    }
   },
   "outputs": [
    {
     "data": {
      "text/html": [
       "<div>\n",
       "<style scoped>\n",
       "    .dataframe tbody tr th:only-of-type {\n",
       "        vertical-align: middle;\n",
       "    }\n",
       "\n",
       "    .dataframe tbody tr th {\n",
       "        vertical-align: top;\n",
       "    }\n",
       "\n",
       "    .dataframe thead th {\n",
       "        text-align: right;\n",
       "    }\n",
       "</style>\n",
       "<table border=\"1\" class=\"dataframe\">\n",
       "  <thead>\n",
       "    <tr style=\"text-align: right;\">\n",
       "      <th></th>\n",
       "      <th>tamanho</th>\n",
       "      <th>ano</th>\n",
       "      <th>garagem</th>\n",
       "      <th>preco</th>\n",
       "    </tr>\n",
       "  </thead>\n",
       "  <tbody>\n",
       "    <tr>\n",
       "      <th>1121</th>\n",
       "      <td>144.0</td>\n",
       "      <td>2005</td>\n",
       "      <td>3</td>\n",
       "      <td>212900</td>\n",
       "    </tr>\n",
       "    <tr>\n",
       "      <th>201</th>\n",
       "      <td>119.0</td>\n",
       "      <td>1977</td>\n",
       "      <td>2</td>\n",
       "      <td>171500</td>\n",
       "    </tr>\n",
       "  </tbody>\n",
       "</table>\n",
       "</div>"
      ],
      "text/plain": [
       "      tamanho   ano  garagem   preco\n",
       "1121    144.0  2005        3  212900\n",
       "201     119.0  1977        2  171500"
      ]
     },
     "execution_count": 6,
     "metadata": {},
     "output_type": "execute_result"
    }
   ],
   "source": [
    "df = pd.read_csv(r'dados/casas.csv')\n",
    "df.sample(2)"
   ]
  },
  {
   "cell_type": "code",
   "execution_count": 7,
   "id": "67d466b6",
   "metadata": {
    "ExecuteTime": {
     "end_time": "2022-01-03T18:11:31.428500Z",
     "start_time": "2022-01-03T18:11:31.425496Z"
    }
   },
   "outputs": [],
   "source": [
    "X = df.drop(['preco'], axis=1)\n",
    "y = df['preco']"
   ]
  },
  {
   "cell_type": "code",
   "execution_count": 8,
   "id": "bf190dcc",
   "metadata": {
    "ExecuteTime": {
     "end_time": "2022-01-03T18:11:31.433468Z",
     "start_time": "2022-01-03T18:11:31.429606Z"
    }
   },
   "outputs": [],
   "source": [
    "X_train, X_test, y_train, y_test = train_test_split(X,\n",
    "                                                    y,\n",
    "                                                    test_size=0.3,\n",
    "                                                    random_state=42)"
   ]
  },
  {
   "cell_type": "code",
   "execution_count": 9,
   "id": "88dc4ffa",
   "metadata": {
    "ExecuteTime": {
     "end_time": "2022-01-03T18:11:31.442904Z",
     "start_time": "2022-01-03T18:11:31.434298Z"
    }
   },
   "outputs": [
    {
     "data": {
      "text/plain": [
       "LinearRegression()"
      ]
     },
     "execution_count": 9,
     "metadata": {},
     "output_type": "execute_result"
    }
   ],
   "source": [
    "model = LinearRegression()\n",
    "\n",
    "model.fit(X_train, y_train)"
   ]
  },
  {
   "cell_type": "code",
   "execution_count": 10,
   "id": "2a764eb1",
   "metadata": {
    "ExecuteTime": {
     "end_time": "2022-01-03T18:11:31.447986Z",
     "start_time": "2022-01-03T18:11:31.444315Z"
    }
   },
   "outputs": [
    {
     "data": {
      "text/plain": [
       "array([  830.00653222,   762.09006126, 25767.20537933])"
      ]
     },
     "execution_count": 10,
     "metadata": {},
     "output_type": "execute_result"
    }
   ],
   "source": [
    "model.coef_"
   ]
  },
  {
   "cell_type": "code",
   "execution_count": 11,
   "id": "489ba7d0",
   "metadata": {
    "ExecuteTime": {
     "end_time": "2022-01-03T18:11:31.453784Z",
     "start_time": "2022-01-03T18:11:31.451089Z"
    }
   },
   "outputs": [
    {
     "data": {
      "text/plain": [
       "-1484640.8721676636"
      ]
     },
     "execution_count": 11,
     "metadata": {},
     "output_type": "execute_result"
    }
   ],
   "source": [
    "model.intercept_"
   ]
  },
  {
   "cell_type": "code",
   "execution_count": 12,
   "id": "9b382e77",
   "metadata": {
    "ExecuteTime": {
     "end_time": "2022-01-03T18:11:31.460981Z",
     "start_time": "2022-01-03T18:11:31.455940Z"
    }
   },
   "outputs": [
    {
     "name": "stderr",
     "output_type": "stream",
     "text": [
      "/Users/greg/opt/anaconda3/lib/python3.8/site-packages/sklearn/base.py:445: UserWarning: X does not have valid feature names, but LinearRegression was fitted with feature names\n",
      "  warnings.warn(\n"
     ]
    },
    {
     "data": {
      "text/plain": [
       "array([191436.53503831])"
      ]
     },
     "execution_count": 12,
     "metadata": {},
     "output_type": "execute_result"
    }
   ],
   "source": [
    "model.predict([[120, 2001, 2]])"
   ]
  },
  {
   "cell_type": "code",
   "execution_count": 14,
   "id": "def0a4ef",
   "metadata": {
    "ExecuteTime": {
     "end_time": "2022-01-03T18:12:31.952120Z",
     "start_time": "2022-01-03T18:12:31.945685Z"
    }
   },
   "outputs": [],
   "source": [
    "pickle.dump(model, open('dados/modelo.sav', 'wb'))"
   ]
  },
  {
   "cell_type": "code",
   "execution_count": 16,
   "id": "58da5569",
   "metadata": {
    "ExecuteTime": {
     "end_time": "2022-01-03T18:27:44.816266Z",
     "start_time": "2022-01-03T18:27:44.809706Z"
    }
   },
   "outputs": [
    {
     "data": {
      "text/plain": [
       "'1.0.1'"
      ]
     },
     "execution_count": 16,
     "metadata": {},
     "output_type": "execute_result"
    }
   ],
   "source": [
    "import sklearn\n",
    "sklearn.__version__"
   ]
  },
  {
   "cell_type": "markdown",
   "id": "d3a5de9d",
   "metadata": {},
   "source": [
    "## para testar a api usamos request"
   ]
  },
  {
   "cell_type": "code",
   "execution_count": 43,
   "id": "3bd3dfd3",
   "metadata": {
    "ExecuteTime": {
     "end_time": "2022-01-03T19:50:45.626905Z",
     "start_time": "2022-01-03T19:50:45.621730Z"
    }
   },
   "outputs": [],
   "source": [
    "dados = {\"tamanho\": 120, \"ano\": 2001, \"garagem\": 2}\n",
    "\n",
    "#para fazer a autenticacao\n",
    "auth = requests.auth.HTTPBasicAuth('gregory', 'datascience')"
   ]
  },
  {
   "cell_type": "code",
   "execution_count": 41,
   "id": "f390e633",
   "metadata": {
    "ExecuteTime": {
     "end_time": "2022-01-03T19:50:32.043096Z",
     "start_time": "2022-01-03T19:50:32.023393Z"
    }
   },
   "outputs": [
    {
     "data": {
      "text/plain": [
       "200"
      ]
     },
     "execution_count": 41,
     "metadata": {},
     "output_type": "execute_result"
    }
   ],
   "source": [
    "url = 'http://127.0.0.1:5000/cotacao/'\n",
    "\n",
    "response = requests.post(url, json=dados, auth=auth)\n",
    "\n",
    "response.status_code"
   ]
  },
  {
   "cell_type": "code",
   "execution_count": 42,
   "id": "6e6b8655",
   "metadata": {
    "ExecuteTime": {
     "end_time": "2022-01-03T19:50:33.603600Z",
     "start_time": "2022-01-03T19:50:33.598494Z"
    }
   },
   "outputs": [
    {
     "data": {
      "text/plain": [
       "{'preco': 191436.5350383143}"
      ]
     },
     "execution_count": 42,
     "metadata": {},
     "output_type": "execute_result"
    }
   ],
   "source": [
    "response.json()"
   ]
  },
  {
   "cell_type": "code",
   "execution_count": null,
   "id": "b77b0e4d",
   "metadata": {},
   "outputs": [],
   "source": []
  }
 ],
 "metadata": {
  "kernelspec": {
   "display_name": "Python 3 (ipykernel)",
   "language": "python",
   "name": "python3"
  },
  "language_info": {
   "codemirror_mode": {
    "name": "ipython",
    "version": 3
   },
   "file_extension": ".py",
   "mimetype": "text/x-python",
   "name": "python",
   "nbconvert_exporter": "python",
   "pygments_lexer": "ipython3",
   "version": "3.8.8"
  }
 },
 "nbformat": 4,
 "nbformat_minor": 5
}
